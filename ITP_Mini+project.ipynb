{
 "cells": [
  {
   "cell_type": "markdown",
   "id": "fb992b48",
   "metadata": {},
   "source": [
    "# Q1. Create a Dictionary of lists to store the information of shipments given in the table"
   ]
  },
  {
   "cell_type": "code",
   "execution_count": 1,
   "id": "8796ed53",
   "metadata": {
    "scrolled": true
   },
   "outputs": [
    {
     "name": "stdout",
     "output_type": "stream",
     "text": [
      "{101: {'Sender': 1, 'Receiver': 3, 'Start date': '14-03-2020', 'Delivery Date': '25-03-2020', 'Sender_location': 'Area1', 'Receiver_location': 'Area6', 'Delivery status': 'Delivered', 'Shipping cost': 198}, 102: {'Sender': 4, 'Receiver': 1, 'Start date': '18-06-2020', 'Delivery Date': '09-07-2020', 'Sender_location': 'Area2', 'Receiver_location': 'Area4', 'Delivery status': 'Delivered', 'Shipping cost': 275}, 103: {'Sender': 2, 'Receiver': 3, 'Start date': '01-12-2020', 'Delivery Date': 'Null', 'Sender_location': 'Area5', 'Receiver_location': 'Area1', 'Delivery status': 'In-Transit', 'Shipping cost': 200}, 104: {'Sender': 1, 'Receiver': 5, 'Start date': '23-06-2020', 'Delivery Date': '25-06-2020', 'Sender_location': 'Area1', 'Receiver_location': 'Area4', 'Delivery status': 'Delivered', 'Shipping cost': 314}, 105: {'Sender': 3, 'Receiver': 4, 'Start date': '29-08-2020', 'Delivery Date': '10-09-2020', 'Sender_location': 'Area5', 'Receiver_location': 'Area3', 'Delivery status': 'Delivered', 'Shipping cost': 275}, 106: {'Sender': 5, 'Receiver': 2, 'Start date': '28-06-2020', 'Delivery Date': 'Null', 'Sender_location': 'Area3', 'Receiver_location': 'Area1', 'Delivery status': 'In-Transit', 'Shipping cost': 270}}\n"
     ]
    }
   ],
   "source": [
    "fg={\n",
    "    101:{'Sender':1,'Receiver':3,'Start date':'14-03-2020','Delivery Date':'25-03-2020','Sender_location':'Area1','Receiver_location':'Area6','Delivery status':'Delivered','Shipping cost':198},\n",
    "    102:{'Sender':4,'Receiver':1,'Start date':'18-06-2020','Delivery Date':'09-07-2020','Sender_location':'Area2','Receiver_location':'Area4','Delivery status':'Delivered','Shipping cost':275},\n",
    "    103:{'Sender':2,'Receiver':3,'Start date':'01-12-2020','Delivery Date':'Null','Sender_location':'Area5','Receiver_location':'Area1','Delivery status':'In-Transit','Shipping cost':200},\n",
    "    104:{'Sender':1,'Receiver':5,'Start date':'23-06-2020','Delivery Date':'25-06-2020','Sender_location':'Area1','Receiver_location':'Area4','Delivery status':'Delivered','Shipping cost':314},\n",
    "    105:{'Sender':3,'Receiver':4,'Start date':'29-08-2020','Delivery Date':'10-09-2020','Sender_location':'Area5','Receiver_location':'Area3','Delivery status':'Delivered','Shipping cost':275},\n",
    "    106:{'Sender':5,'Receiver':2,'Start date':'28-06-2020','Delivery Date':'Null','Sender_location':'Area3','Receiver_location':'Area1','Delivery status':'In-Transit','Shipping cost':270}\n",
    "}\n",
    "\n",
    "print(fg)"
   ]
  },
  {
   "cell_type": "markdown",
   "id": "b43b9305",
   "metadata": {},
   "source": [
    "# Q2.Create a Dictionary of to store the information of clients given in the table"
   ]
  },
  {
   "cell_type": "code",
   "execution_count": 2,
   "id": "f8d200c9",
   "metadata": {},
   "outputs": [
    {
     "data": {
      "text/plain": [
       "{1: 'Phillip', 2: 'Omega III', 3: 'Ramya', 4: 'Romesh', 5: 'John'}"
      ]
     },
     "execution_count": 2,
     "metadata": {},
     "output_type": "execute_result"
    }
   ],
   "source": [
    "x={1:'Phillip',2:'Omega III',3:'Ramya',4:'Romesh',5:'John'}\n",
    "x"
   ]
  },
  {
   "cell_type": "markdown",
   "id": "6accb1e9",
   "metadata": {},
   "source": [
    "# Q3. Write a code to replace client’s id with their respective name in shipment dictionary using a loop and dictionary comprehension"
   ]
  },
  {
   "cell_type": "code",
   "execution_count": 3,
   "id": "14f02365",
   "metadata": {},
   "outputs": [
    {
     "data": {
      "text/plain": [
       "{101: {'Sender': 'Phillip',\n",
       "  'Receiver': 'Ramya',\n",
       "  'Start date': '14-03-2020',\n",
       "  'Delivery Date': '25-03-2020',\n",
       "  'Sender_location': 'Area1',\n",
       "  'Receiver_location': 'Area6',\n",
       "  'Delivery status': 'Delivered',\n",
       "  'Shipping cost': 198},\n",
       " 102: {'Sender': 'Romesh',\n",
       "  'Receiver': 'Phillip',\n",
       "  'Start date': '18-06-2020',\n",
       "  'Delivery Date': '09-07-2020',\n",
       "  'Sender_location': 'Area2',\n",
       "  'Receiver_location': 'Area4',\n",
       "  'Delivery status': 'Delivered',\n",
       "  'Shipping cost': 275},\n",
       " 103: {'Sender': 'Omega III',\n",
       "  'Receiver': 'Ramya',\n",
       "  'Start date': '01-12-2020',\n",
       "  'Delivery Date': 'Null',\n",
       "  'Sender_location': 'Area5',\n",
       "  'Receiver_location': 'Area1',\n",
       "  'Delivery status': 'In-Transit',\n",
       "  'Shipping cost': 200},\n",
       " 104: {'Sender': 'Phillip',\n",
       "  'Receiver': 'John',\n",
       "  'Start date': '23-06-2020',\n",
       "  'Delivery Date': '25-06-2020',\n",
       "  'Sender_location': 'Area1',\n",
       "  'Receiver_location': 'Area4',\n",
       "  'Delivery status': 'Delivered',\n",
       "  'Shipping cost': 314},\n",
       " 105: {'Sender': 'Ramya',\n",
       "  'Receiver': 'Romesh',\n",
       "  'Start date': '29-08-2020',\n",
       "  'Delivery Date': '10-09-2020',\n",
       "  'Sender_location': 'Area5',\n",
       "  'Receiver_location': 'Area3',\n",
       "  'Delivery status': 'Delivered',\n",
       "  'Shipping cost': 275},\n",
       " 106: {'Sender': 'John',\n",
       "  'Receiver': 'Omega III',\n",
       "  'Start date': '28-06-2020',\n",
       "  'Delivery Date': 'Null',\n",
       "  'Sender_location': 'Area3',\n",
       "  'Receiver_location': 'Area1',\n",
       "  'Delivery status': 'In-Transit',\n",
       "  'Shipping cost': 270}}"
      ]
     },
     "execution_count": 3,
     "metadata": {},
     "output_type": "execute_result"
    }
   ],
   "source": [
    "gh={key:{k:x[v] if k in ('Sender','Receiver') else v for k,v in value.items()} for key,value in fg.items()}\n",
    "gh"
   ]
  },
  {
   "cell_type": "markdown",
   "id": "40cf141d",
   "metadata": {},
   "source": [
    "# Q4. Print all shipment details that are sent by Phillip"
   ]
  },
  {
   "cell_type": "code",
   "execution_count": 4,
   "id": "cfb5c958",
   "metadata": {},
   "outputs": [
    {
     "data": {
      "text/plain": [
       "[{'Sender': 'Phillip',\n",
       "  'Receiver': 'Ramya',\n",
       "  'Start date': '14-03-2020',\n",
       "  'Delivery Date': '25-03-2020',\n",
       "  'Sender_location': 'Area1',\n",
       "  'Receiver_location': 'Area6',\n",
       "  'Delivery status': 'Delivered',\n",
       "  'Shipping cost': 198},\n",
       " {'Sender': 'Phillip',\n",
       "  'Receiver': 'John',\n",
       "  'Start date': '23-06-2020',\n",
       "  'Delivery Date': '25-06-2020',\n",
       "  'Sender_location': 'Area1',\n",
       "  'Receiver_location': 'Area4',\n",
       "  'Delivery status': 'Delivered',\n",
       "  'Shipping cost': 314}]"
      ]
     },
     "execution_count": 4,
     "metadata": {},
     "output_type": "execute_result"
    }
   ],
   "source": [
    "[gh[i] for i in gh if gh[i]['Sender']=='Phillip']"
   ]
  },
  {
   "cell_type": "markdown",
   "id": "fd9ec4f3",
   "metadata": {},
   "source": [
    "# Q5.Print all shipment details that are received by Ramya"
   ]
  },
  {
   "cell_type": "code",
   "execution_count": 5,
   "id": "3e604082",
   "metadata": {},
   "outputs": [
    {
     "data": {
      "text/plain": [
       "[{'Sender': 'Phillip',\n",
       "  'Receiver': 'Ramya',\n",
       "  'Start date': '14-03-2020',\n",
       "  'Delivery Date': '25-03-2020',\n",
       "  'Sender_location': 'Area1',\n",
       "  'Receiver_location': 'Area6',\n",
       "  'Delivery status': 'Delivered',\n",
       "  'Shipping cost': 198},\n",
       " {'Sender': 'Omega III',\n",
       "  'Receiver': 'Ramya',\n",
       "  'Start date': '01-12-2020',\n",
       "  'Delivery Date': 'Null',\n",
       "  'Sender_location': 'Area5',\n",
       "  'Receiver_location': 'Area1',\n",
       "  'Delivery status': 'In-Transit',\n",
       "  'Shipping cost': 200}]"
      ]
     },
     "execution_count": 5,
     "metadata": {},
     "output_type": "execute_result"
    }
   ],
   "source": [
    "[gh[i] for i in gh if gh[i]['Receiver']=='Ramya']"
   ]
  },
  {
   "cell_type": "markdown",
   "id": "82467b4c",
   "metadata": {},
   "source": [
    "# Q6.Print all shipments which are in 'In-Transit' status"
   ]
  },
  {
   "cell_type": "code",
   "execution_count": 6,
   "id": "8f589993",
   "metadata": {},
   "outputs": [
    {
     "data": {
      "text/plain": [
       "[{'Sender': 'Omega III',\n",
       "  'Receiver': 'Ramya',\n",
       "  'Start date': '01-12-2020',\n",
       "  'Delivery Date': 'Null',\n",
       "  'Sender_location': 'Area5',\n",
       "  'Receiver_location': 'Area1',\n",
       "  'Delivery status': 'In-Transit',\n",
       "  'Shipping cost': 200},\n",
       " {'Sender': 'John',\n",
       "  'Receiver': 'Omega III',\n",
       "  'Start date': '28-06-2020',\n",
       "  'Delivery Date': 'Null',\n",
       "  'Sender_location': 'Area3',\n",
       "  'Receiver_location': 'Area1',\n",
       "  'Delivery status': 'In-Transit',\n",
       "  'Shipping cost': 270}]"
      ]
     },
     "execution_count": 6,
     "metadata": {},
     "output_type": "execute_result"
    }
   ],
   "source": [
    "[gh[i] for i in gh if gh[i]['Delivery status']=='In-Transit']"
   ]
  },
  {
   "cell_type": "markdown",
   "id": "b2b54398",
   "metadata": {},
   "source": [
    "# Q7.Print all shipments which are delivered within 7 days of courier Start date"
   ]
  },
  {
   "cell_type": "code",
   "execution_count": 7,
   "id": "c541bee0",
   "metadata": {},
   "outputs": [
    {
     "name": "stdout",
     "output_type": "stream",
     "text": [
      "{104: {'Sender': 'Phillip', 'Receiver': 'John', 'Start date': '23-06-2020', 'Delivery Date': '25-06-2020', 'Sender_location': 'Area1', 'Receiver_location': 'Area4', 'Delivery status': 'Delivered', 'Shipping cost': 314}}\n"
     ]
    }
   ],
   "source": [
    "from datetime import datetime\n",
    "\n",
    "for k,y in gh.items():\n",
    "    if y[\"Delivery Date\"] == \"Null\":\n",
    "        continue\n",
    "\n",
    "    start_day = datetime.strptime(y[\"Start date\"], \"%d-%m-%Y\")\n",
    "    delivery_day = datetime.strptime(y[\"Delivery Date\"], \"%d-%m-%Y\")\n",
    "\n",
    "    if (delivery_day - start_day).days <= 7:\n",
    "        print({k:y})"
   ]
  },
  {
   "cell_type": "markdown",
   "id": "1f78b095",
   "metadata": {},
   "source": [
    "# Q8.Print all shipments which are delivered after 15 days of courier start date or not yet been delivered."
   ]
  },
  {
   "cell_type": "code",
   "execution_count": 8,
   "id": "d7ff861b",
   "metadata": {},
   "outputs": [
    {
     "name": "stdout",
     "output_type": "stream",
     "text": [
      "{102: {'Sender': 'Romesh', 'Receiver': 'Phillip', 'Start date': '18-06-2020', 'Delivery Date': '09-07-2020', 'Sender_location': 'Area2', 'Receiver_location': 'Area4', 'Delivery status': 'Delivered', 'Shipping cost': 275}}\n",
      "{103: {'Sender': 'Omega III', 'Receiver': 'Ramya', 'Start date': '01-12-2020', 'Delivery Date': 'Null', 'Sender_location': 'Area5', 'Receiver_location': 'Area1', 'Delivery status': 'In-Transit', 'Shipping cost': 200}}\n",
      "{106: {'Sender': 'John', 'Receiver': 'Omega III', 'Start date': '28-06-2020', 'Delivery Date': 'Null', 'Sender_location': 'Area3', 'Receiver_location': 'Area1', 'Delivery status': 'In-Transit', 'Shipping cost': 270}}\n"
     ]
    }
   ],
   "source": [
    "from datetime import datetime\n",
    "\n",
    "for k,y in gh.items():\n",
    "    if y[\"Delivery Date\"] == \"Null\":\n",
    "        print({k:y})\n",
    "        continue\n",
    "\n",
    "    start_day = datetime.strptime(y[\"Start date\"], \"%d-%m-%Y\")\n",
    "    delivery_day = datetime.strptime(y[\"Delivery Date\"], \"%d-%m-%Y\")\n",
    "\n",
    "    if (delivery_day - start_day).days > 15:\n",
    "        print({k:y})"
   ]
  },
  {
   "cell_type": "markdown",
   "id": "cc58f59c",
   "metadata": {},
   "source": [
    "# Q9.Write a function find_all_routes to display all possible routes from senders location to receivers location given in the dictionary for each shipment"
   ]
  },
  {
   "cell_type": "code",
   "execution_count": 15,
   "id": "7a47003a",
   "metadata": {},
   "outputs": [
    {
     "name": "stdout",
     "output_type": "stream",
     "text": [
      "Phillip: from Area1 to Area6\n",
      "Romesh: from Area2 to Area4\n",
      "Omega III: from Area5 to Area1\n",
      "Phillip: from Area1 to Area4\n",
      "Ramya: from Area5 to Area3\n",
      "John: from Area3 to Area1\n",
      "{None: None}\n"
     ]
    }
   ],
   "source": [
    "a ={}\n",
    "for (k,y)in gh.items():\n",
    "    s = y['Sender_location']\n",
    "    r = y['Receiver_location']\n",
    "    n = y['Sender']\n",
    "    \n",
    "    k = print('{}: from {} to {}'. format(n,s,r))\n",
    "    if k not in a:\n",
    "        a[k] = k\n",
    "        \n",
    "print(a)"
   ]
  }
 ],
 "metadata": {
  "kernelspec": {
   "display_name": "Python 3 (ipykernel)",
   "language": "python",
   "name": "python3"
  },
  "language_info": {
   "codemirror_mode": {
    "name": "ipython",
    "version": 3
   },
   "file_extension": ".py",
   "mimetype": "text/x-python",
   "name": "python",
   "nbconvert_exporter": "python",
   "pygments_lexer": "ipython3",
   "version": "3.9.7"
  }
 },
 "nbformat": 4,
 "nbformat_minor": 5
}
